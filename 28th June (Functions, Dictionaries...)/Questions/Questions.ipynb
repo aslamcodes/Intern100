{
 "cells": [
  {
   "cell_type": "markdown",
   "metadata": {},
   "source": [
    "# Question 1\n",
    "\n",
    "> Longest Substring Without Repeating Characters. That is in a given string find the longest substring that does not contain any character twice."
   ]
  },
  {
   "cell_type": "code",
   "execution_count": 24,
   "metadata": {},
   "outputs": [
    {
     "name": "stdout",
     "output_type": "stream",
     "text": [
      "3\n",
      "1\n",
      "3\n"
     ]
    }
   ],
   "source": [
    "def longest_substring_without_repeating_characters(s):\n",
    "    if len(s) == 0:\n",
    "        return 0\n",
    "    max_ans = -1\n",
    "    for i in range(len(s)): \n",
    "        map = {}\n",
    "        for j in range(i, len(s)):\n",
    "            if s[j] in map:\n",
    "                max_ans = max(max_ans, j - i)\n",
    "                break\n",
    "            map[s[j]] = not None\n",
    "\n",
    "    return max_ans\n",
    "\n",
    "\n",
    "\n",
    "#tests\n",
    "print(longest_substring_without_repeating_characters(\"abcabcbb\")) # 3\n",
    "print(longest_substring_without_repeating_characters(\"bbbbb\")) # 1\n",
    "print(longest_substring_without_repeating_characters(\"pwwkew\")) # 3\n",
    "\n",
    "\n"
   ]
  },
  {
   "cell_type": "markdown",
   "metadata": {},
   "source": [
    "# Question 2\n",
    "> Print the list of prime numbers up to a given number"
   ]
  },
  {
   "cell_type": "code",
   "execution_count": 2,
   "metadata": {},
   "outputs": [
    {
     "name": "stdout",
     "output_type": "stream",
     "text": [
      "[2, 3, 5, 7]\n",
      "[2, 3, 5, 7, 11, 13, 17, 19]\n"
     ]
    }
   ],
   "source": [
    "# Print the list of prime numbers up to a given number using simple algorithm\n",
    "def prime_numbers(n):\n",
    "    if n < 2:\n",
    "        return []\n",
    "    primes = [2]\n",
    "    for i in range(3, n + 1):\n",
    "        is_prime = True\n",
    "        for j in range(2, int(i ** 0.5) + 1):\n",
    "            if i % j == 0:\n",
    "                is_prime = False\n",
    "                break\n",
    "        if is_prime:\n",
    "            primes.append(i)\n",
    "    return primes\n",
    "\n",
    "# Tests\n",
    "print(prime_numbers(10)) # [2, 3, 5, 7]\n",
    "print(prime_numbers(20)) # [2, 3, 5, 7, 11, 13, 17, 19]\n",
    "\n"
   ]
  },
  {
   "cell_type": "markdown",
   "metadata": {},
   "source": [
    "# Question 3\n",
    "Sort store and name of players print the top 10\n"
   ]
  },
  {
   "cell_type": "code",
   "execution_count": 8,
   "metadata": {},
   "outputs": [
    {
     "name": "stdout",
     "output_type": "stream",
     "text": [
      "[{'name': 'John', 'score': 100}, {'name': 'Jerry', 'score': 90}, {'name': 'Jerry', 'score': 90}, {'name': 'Jerry', 'score': 90}, {'name': 'Bob', 'score': 80}, {'name': 'Tom', 'score': 70}, {'name': 'Alice', 'score': 50}, {'name': 'Pluto', 'score': 10}, {'name': 'Pluto', 'score': 10}, {'name': 'Pluto', 'score': 10}]\n"
     ]
    }
   ],
   "source": [
    "# Sort score and name of players print the top 10\n",
    "\n",
    "players = [\n",
    "    {\"name\": \"John\", \"score\": 100},\n",
    "    {\"name\": \"Alice\", \"score\": 50},\n",
    "    {\"name\": \"Bob\", \"score\": 80},\n",
    "    {\"name\": \"Tom\", \"score\": 70},\n",
    "    {\"name\": \"Jerry\", \"score\": 90},\n",
    "    {\"name\": \"Pluto\", \"score\": 10},\n",
    "    {\"name\": \"Scooby\", \"score\": 5},\n",
    "    {\"name\": \"Jerry\", \"score\": 90},\n",
    "    {\"name\": \"Pluto\", \"score\": 10},\n",
    "    {\"name\": \"Scooby\", \"score\": 5},\n",
    "    {\"name\": \"Jerry\", \"score\": 90},\n",
    "    {\"name\": \"Pluto\", \"score\": 10},\n",
    "    {\"name\": \"Scooby\", \"score\": 5},\n",
    "]\n",
    "\n",
    "def top_10_players(players):\n",
    "    players.sort(key=lambda x: x[\"score\"], reverse=True)\n",
    "    return players[:10]\n",
    "\n",
    "print(top_10_players(players))\n"
   ]
  },
  {
   "cell_type": "markdown",
   "metadata": {},
   "source": [
    "# Question 4\n",
    "Application to play the Cow and Bull game maintain score as well. - reff - Wordle of New York Times"
   ]
  },
  {
   "cell_type": "code",
   "execution_count": 2,
   "metadata": {},
   "outputs": [
    {
     "name": "stdout",
     "output_type": "stream",
     "text": [
      "Welcome to the Cows and Bulls Game!\n",
      "Enter a 6 lettered word:\n",
      "Enter a 6 lettered word:\n",
      "bull -  r\n",
      "bull -  c\n",
      "bull -  e\n",
      "0 cows, 3 bulls\n",
      "bull -  r\n",
      "bull -  c\n",
      "bull -  e\n",
      "bull -  r\n",
      "0 cows, 4 bulls\n",
      "Enter a 6 lettered word:\n",
      "bull -  r\n",
      "bull -  c\n",
      "bull -  e\n",
      "bull -  r\n",
      "0 cows, 4 bulls\n",
      "bull -  r\n",
      "bull -  c\n",
      "bull -  e\n",
      "bull -  r\n",
      "0 cows, 4 bulls\n",
      "bull -  r\n",
      "bull -  c\n",
      "bull -  e\n",
      "bull -  r\n",
      "0 cows, 4 bulls\n",
      "bull -  r\n",
      "bull -  c\n",
      "bull -  e\n",
      "bull -  r\n",
      "0 cows, 4 bulls\n",
      "You lost!\n"
     ]
    }
   ],
   "source": [
    "import random\n",
    "# cow and bull game with words\n",
    "\n",
    "def cow_and_bull_game():\n",
    "    words = [\n",
    "        \"banana\",\n",
    "        \"cherry\",\n",
    "        \"grapes\",\n",
    "        \"python\",\n",
    "        \"jacket\",\n",
    "        \"rocket\",\n",
    "    ]\n",
    "\n",
    "    word = random.choice(words)\n",
    "\n",
    "    print(\"Welcome to the Cows and Bulls Game!\")\n",
    "\n",
    "    print(\"Enter a 6 lettered word:\")\n",
    "    lifes = 6\n",
    "    \n",
    "    while True:\n",
    "\n",
    "        if lifes < 1:\n",
    "            print(\"You lost!\")\n",
    "            break\n",
    "\n",
    "        guess = input(\"Guess now: \")\n",
    "\n",
    "        if len(guess) != 6:\n",
    "            print(\"Enter a 6 lettered word:\")\n",
    "            continue\n",
    "\n",
    "        lifes = lifes - 1\n",
    "\n",
    "        if guess == word:\n",
    "            print(\"You win!\")\n",
    "            break\n",
    "        cows = 0\n",
    "        bulls = 0\n",
    "        for i in range(len(word)):\n",
    "            if guess[i] == word[i]:\n",
    "                cows += 1\n",
    "                print(\"cow - \", guess[i])\n",
    "            elif guess[i] in word:\n",
    "                bulls += 1\n",
    "                print(\"bull - \", guess[i])\n",
    "\n",
    "        print(f\"{cows} cows, {bulls} bulls\")\n",
    "\n",
    "cow_and_bull_game()"
   ]
  },
  {
   "cell_type": "markdown",
   "metadata": {},
   "source": [
    "# Question 5\n",
    "Credit card validation - Luhn check algorithm"
   ]
  },
  {
   "cell_type": "code",
   "execution_count": 11,
   "metadata": {},
   "outputs": [
    {
     "name": "stdout",
     "output_type": "stream",
     "text": [
      "True\n",
      "False\n"
     ]
    }
   ],
   "source": [
    "# Credit card validation - Luhn check algorithm\n",
    "def digits_of(n):\n",
    "        return [int(d) for d in str(n)]\n",
    "\n",
    "def isValidLuhn(card_number):\n",
    "    digits = digits_of(card_number)\n",
    "\n",
    "    odd = digits[-1::-2]\n",
    "    even = digits[-2::-2]\n",
    "\n",
    "    csum = 0\n",
    "\n",
    "    csum += sum(odd)\n",
    "\n",
    "    for d in even:\n",
    "        csum += sum(digits_of(d*2))\n",
    "    return csum % 10 == 0\n",
    "\n",
    "# Tests\n",
    "print(isValidLuhn(\"49927398716\")) # True\n",
    "print(isValidLuhn(\"49927398717\")) # False\n",
    "\n",
    "\n"
   ]
  }
 ],
 "metadata": {
  "kernelspec": {
   "display_name": "Python 3",
   "language": "python",
   "name": "python3"
  },
  "language_info": {
   "codemirror_mode": {
    "name": "ipython",
    "version": 3
   },
   "file_extension": ".py",
   "mimetype": "text/x-python",
   "name": "python",
   "nbconvert_exporter": "python",
   "pygments_lexer": "ipython3",
   "version": "3.12.3"
  }
 },
 "nbformat": 4,
 "nbformat_minor": 2
}
