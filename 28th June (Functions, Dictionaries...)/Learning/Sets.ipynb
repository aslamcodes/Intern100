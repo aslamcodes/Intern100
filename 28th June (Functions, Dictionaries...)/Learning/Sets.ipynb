{
 "cells": [
  {
   "cell_type": "markdown",
   "metadata": {},
   "source": [
    "# Sets\n",
    "- Is a collection of \n",
    "    - Unordered\n",
    "    - Non duplicate \n",
    "    - Hashable elements\n",
    "\n",
    "- We can do **union**, **intersection**,  **difference**, **symmetric difference** on sets\n",
    "- Sets do not record position nor order of insertion and other _sequence_ like operations\n",
    "\n",
    "## Two type of sets\n",
    "- Fronzenset - immutable\n",
    "- Sets - mutable\n",
    "\n",
    "> Once created we can add or remove using add() and remove() functions, but not change its contents\n"
   ]
  },
  {
   "cell_type": "code",
   "execution_count": 1,
   "metadata": {},
   "outputs": [
    {
     "name": "stdout",
     "output_type": "stream",
     "text": [
      "{1, 2, 3, 4, 5}\n"
     ]
    }
   ],
   "source": [
    "this_is_a_set = {1, 2, 3, 4, 5}\n",
    "print(this_is_a_set)"
   ]
  },
  {
   "cell_type": "code",
   "execution_count": 2,
   "metadata": {},
   "outputs": [
    {
     "name": "stdout",
     "output_type": "stream",
     "text": [
      "{1, 2, 3, 4, 5}\n"
     ]
    }
   ],
   "source": [
    "no_dups = {1, 2, 3, 4, 5, 5, 5, 5, 5}\n",
    "print(no_dups)"
   ]
  },
  {
   "cell_type": "markdown",
   "metadata": {},
   "source": [
    "# Accessing Set Elements\n",
    "Set elements cannot be accessed, but can be checked for its existence using `in` keyword"
   ]
  },
  {
   "cell_type": "code",
   "execution_count": 3,
   "metadata": {},
   "outputs": [
    {
     "name": "stdout",
     "output_type": "stream",
     "text": [
      "True\n"
     ]
    }
   ],
   "source": [
    "this_is_a_set = {1, 2, 3, 4, 5}\n",
    "print(2 in this_is_a_set) # true"
   ]
  },
  {
   "cell_type": "markdown",
   "metadata": {},
   "source": [
    "# Set Operations\n",
    "## Union\n",
    "The union() method returns a new set with all items from both sets.\n",
    "\n",
    "and more list [here](https://docs.python.org/3.12/library/stdtypes.html#set)"
   ]
  },
  {
   "cell_type": "code",
   "execution_count": 4,
   "metadata": {},
   "outputs": [
    {
     "name": "stdout",
     "output_type": "stream",
     "text": [
      "{1, 2, 3, 'b', 'c', 'a'}\n"
     ]
    }
   ],
   "source": [
    "set1 = {\"a\", \"b\", \"c\"}\n",
    "set2 = {1, 2, 3}\n",
    "\n",
    "set3 = set1.union(set2)\n",
    "print(set3)"
   ]
  }
 ],
 "metadata": {
  "kernelspec": {
   "display_name": "Python 3",
   "language": "python",
   "name": "python3"
  },
  "language_info": {
   "codemirror_mode": {
    "name": "ipython",
    "version": 3
   },
   "file_extension": ".py",
   "mimetype": "text/x-python",
   "name": "python",
   "nbconvert_exporter": "python",
   "pygments_lexer": "ipython3",
   "version": "3.12.3"
  }
 },
 "nbformat": 4,
 "nbformat_minor": 2
}
