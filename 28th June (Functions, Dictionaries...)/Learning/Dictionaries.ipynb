{
 "cells": [
  {
   "cell_type": "markdown",
   "metadata": {},
   "source": [
    "# The Mapping Type - Dictionary\n",
    "- Dictionary is the only mappping type available in python\n",
    "- Keys can be any type, but not non-hashable types, like lists, sets "
   ]
  },
  {
   "cell_type": "markdown",
   "metadata": {},
   "source": [
    "## Creating Dictionaries\n",
    "- Key value pairs, comma seperated within brackets\n",
    "- With Dict Comprehension\n",
    "- Type constructors\n",
    "\n",
    "### Type constructors\n",
    "```python\n",
    "dict()\n",
    "dict([('foo', 100), ('bar', 200)]),\n",
    "dict(foo=100, bar=200)\n",
    "```\n",
    "> If no positional argument is given, an empty dictionary is created. If a positional argument is given and it is a mapping object, a dictionary is created with the same key-value pairs as the mapping object. Otherwise, the positional argument must be an iterable object. Each item in the iterable must itself be an iterable with exactly two objects. The first object of each item becomes a key in the new dictionary, and the second object the corresponding value. If a key occurs more than once, the last value for that key becomes the corresponding value in the new dictionary.\n",
    "\n",
    "If keyword arguments are given, the keyword arguments and their values are added to the dictionary created from the positional argument. If a key being added is already present, the value from the keyword argument replaces the value from the positional argument."
   ]
  },
  {
   "cell_type": "code",
   "execution_count": 1,
   "metadata": {},
   "outputs": [
    {
     "name": "stdout",
     "output_type": "stream",
     "text": [
      "{'sape': 4139, 'guido': 4127, 'jack': 4098}\n"
     ]
    }
   ],
   "source": [
    "print(dict(sape=4139, guido=4127, jack=4098))\n"
   ]
  },
  {
   "cell_type": "code",
   "execution_count": 2,
   "metadata": {},
   "outputs": [
    {
     "name": "stdout",
     "output_type": "stream",
     "text": [
      "{2: 4, 4: 16, 6: 36}\n"
     ]
    }
   ],
   "source": [
    "print({x: x**2 for x in (2, 4, 6)})"
   ]
  },
  {
   "cell_type": "markdown",
   "metadata": {},
   "source": [
    "# Looping\n",
    "- We can get the key value pairs using the `items()` method\n",
    "- The items method returns View Object\n",
    "    - View objects are dynammic, meaning when dictionary changes it changes too\n",
    "    - `Keys()` and `values()` functions from dictionary also returns view objects"
   ]
  },
  {
   "cell_type": "code",
   "execution_count": 5,
   "metadata": {},
   "outputs": [
    {
     "name": "stdout",
     "output_type": "stream",
     "text": [
      "{'sape': 1, 'guido': 1, 'jack': 1}\n"
     ]
    }
   ],
   "source": [
    "d = dict(sape=4139, guido=4127, jack=4098)\n",
    "\n",
    "for x in d.items():\n",
    "    d[x[0]] = 1\n",
    "\n",
    "print(d)"
   ]
  },
  {
   "cell_type": "markdown",
   "metadata": {},
   "source": [
    "They change the dictionary too"
   ]
  }
 ],
 "metadata": {
  "kernelspec": {
   "display_name": "Python 3",
   "language": "python",
   "name": "python3"
  },
  "language_info": {
   "codemirror_mode": {
    "name": "ipython",
    "version": 3
   },
   "file_extension": ".py",
   "mimetype": "text/x-python",
   "name": "python",
   "nbconvert_exporter": "python",
   "pygments_lexer": "ipython3",
   "version": "3.12.3"
  }
 },
 "nbformat": 4,
 "nbformat_minor": 2
}
