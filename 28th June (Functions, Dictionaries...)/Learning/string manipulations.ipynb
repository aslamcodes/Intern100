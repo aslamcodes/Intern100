{
 "cells": [
  {
   "cell_type": "markdown",
   "metadata": {},
   "source": [
    "# Remove prefix and suffix\n",
    "Instead of using split(' '), this seems more readable and intuitive to split strings for specific use cases"
   ]
  },
  {
   "cell_type": "code",
   "execution_count": 1,
   "metadata": {},
   "outputs": [
    {
     "name": "stdout",
     "output_type": "stream",
     "text": [
      "[token]\n"
     ]
    }
   ],
   "source": [
    "# To Remove Prefix from a string in Python\n",
    "auth = \"Bearer [token]\"\n",
    "token = auth.removeprefix(\"Bearer \")\n",
    "print(token)"
   ]
  },
  {
   "cell_type": "markdown",
   "metadata": {},
   "source": [
    "# Formatting Strings"
   ]
  },
  {
   "cell_type": "markdown",
   "metadata": {},
   "source": [
    "## The Format Function\n",
    "- The string will hold replacement fields \"{__}\"\n",
    "- The field will contain either **positional argument** or **name of keyword argument**\n",
    "```python\n",
    "\"Hi, {name}\".format(name = \"Aslam\") # Hi, Aslam\n",
    "\"{1}, {0}\".format(\"Aslam\", \"Hi\") # Hi, Aslam\n",
    "```"
   ]
  },
  {
   "cell_type": "code",
   "execution_count": 2,
   "metadata": {},
   "outputs": [
    {
     "name": "stdout",
     "output_type": "stream",
     "text": [
      "Hi, Aslam\n",
      "Hi, Aslam\n"
     ]
    }
   ],
   "source": [
    "print(\"Hi, {name}\".format(name = \"Aslam\")) # Hi, Aslam\n",
    "print(\"{1}, {0}\".format(\"Aslam\", \"Hi\")) # Hi, Aslam"
   ]
  },
  {
   "cell_type": "markdown",
   "metadata": {},
   "source": [
    "# Partition\n",
    "```python\n",
    "\"Batman vs Superman\".partition(\"vs\") # ('Batman', 'vs' 'Superman')\n",
    "```\n",
    "\n",
    "- The parition function provides the orginal string with a *tuple* **(before sep, sep, after sep)**\n",
    "- This function might come handy in specific situations\n"
   ]
  },
  {
   "cell_type": "code",
   "execution_count": 3,
   "metadata": {},
   "outputs": [
    {
     "data": {
      "text/plain": [
       "('Batman ', 'vs', ' Superman')"
      ]
     },
     "execution_count": 3,
     "metadata": {},
     "output_type": "execute_result"
    }
   ],
   "source": [
    "\"Batman vs Superman\".partition(\"vs\") # ('Batman', 'vs' 'Superman')"
   ]
  },
  {
   "cell_type": "markdown",
   "metadata": {},
   "source": [
    "# Patching strings\n",
    "\n",
    "\"Once upon a diy\" \n",
    "- Made a mistake, str.replace is to your rescue!\n",
    "\n",
    "```python\n",
    "\"Once upon a diy\".replace(\"diy\", \"day\")\n",
    "\"Once upon a diy, its a pleasant diy\".replace(\"diy\", \"day\", 1) # Replace diy for one times\n",
    "```\n"
   ]
  },
  {
   "cell_type": "code",
   "execution_count": 5,
   "metadata": {},
   "outputs": [
    {
     "name": "stdout",
     "output_type": "stream",
     "text": [
      "Once upon a day\n",
      "Once upon a day, its a pleasant diy\n"
     ]
    }
   ],
   "source": [
    "print(\"Once upon a diy\".replace(\"diy\", \"day\"))\n",
    "print(\"Once upon a diy, its a pleasant diy\".replace(\"diy\", \"day\", 1))"
   ]
  },
  {
   "cell_type": "markdown",
   "metadata": {},
   "source": []
  }
 ],
 "metadata": {
  "kernelspec": {
   "display_name": "Python 3",
   "language": "python",
   "name": "python3"
  },
  "language_info": {
   "codemirror_mode": {
    "name": "ipython",
    "version": 3
   },
   "file_extension": ".py",
   "mimetype": "text/x-python",
   "name": "python",
   "nbconvert_exporter": "python",
   "pygments_lexer": "ipython3",
   "version": "3.12.3"
  }
 },
 "nbformat": 4,
 "nbformat_minor": 2
}
