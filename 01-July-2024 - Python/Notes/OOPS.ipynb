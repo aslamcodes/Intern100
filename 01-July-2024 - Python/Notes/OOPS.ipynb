{
 "cells": [
  {
   "cell_type": "markdown",
   "metadata": {},
   "source": [
    "# Encapsulating with Classes\n",
    "Classes is the way to encapusulate data and functionality together in python[1], with which we can create instances of that type(class).\n",
    "\n",
    "> Python classes provide all the standard features of Object Oriented Programming: the class inheritance mechanism allows multiple base classes **Multiple Inheritance**, a derived class can override any methods of its base class or classes, and a method can call the method of a base class with the same name\n",
    "\n",
    "## `__new__()` magic method\n",
    "- Classes are callable[2], with which it can produces instances of itself. `__new__()` can be overrided to alter the functionality and then `__init__()` will be called to instantiate the object[3]\n",
    "- `__new__()` will be handling the instance creation process & `__init__()` will be handling the instantiation[4]\n",
    "- `__new()__` is a static method, that belongs to the class, it receives the class `cls` arguement[5]\n",
    "- it can be useful to control the object creation phase, when we would want to create a singleton class\n",
    "\n",
    "> Typical implementations create a new instance of the class by invoking the superclass’s __new__() method using super().__new__(cls[, ...]) with appropriate arguments and then modifying the newly created instance as necessary before returning it.[5]\n",
    "\n"
   ]
  },
  {
   "cell_type": "code",
   "execution_count": 7,
   "metadata": {},
   "outputs": [
    {
     "name": "stdout",
     "output_type": "stream",
     "text": [
      "new object created\n",
      "Ojbect instantiated\n",
      "Object called\n"
     ]
    }
   ],
   "source": [
    "class Sample:\n",
    "\n",
    "    def __new__(cls):\n",
    "        print(\"new object created\")\n",
    "        return super().__new__(cls)\n",
    "\n",
    "    def __init__(self):\n",
    "        print(\"Ojbect instantiated\")\n",
    "        super().__init__()\n",
    "  \n",
    "\n",
    "    def __call__(self):\n",
    "        print(\"Object called\")\n",
    "        pass\n",
    "\n",
    "\n",
    "s = Sample()\n",
    "\n",
    "s()"
   ]
  },
  {
   "cell_type": "markdown",
   "metadata": {},
   "source": [
    "# Inheritance\n",
    "- The syntax on how to create instances of class is below\n",
    "- Attribute are recursively looked up, from derived class to base class\n",
    "```python\n",
    "    class BaseClass():\n",
    "        ...\n",
    "\n",
    "    class DerivedClass(BaseClass):\n",
    "        ...\n",
    "```"
   ]
  },
  {
   "cell_type": "code",
   "execution_count": 11,
   "metadata": {},
   "outputs": [
    {
     "name": "stdout",
     "output_type": "stream",
     "text": [
      "John 1000\n",
      "John\n"
     ]
    }
   ],
   "source": [
    "class Person():\n",
    "    def __init__(self, name):\n",
    "        self.name = name\n",
    "    \n",
    "    def display(self):\n",
    "        print(self.name)\n",
    "\n",
    "class Employee(Person):\n",
    "    def __init__(self, name, salary):\n",
    "        super().__init__(name)\n",
    "        self.salary = salary\n",
    "\n",
    "    def display(self):\n",
    "        print(self.name, self.salary)\n",
    "\n",
    "em1 = Employee(\"John\", 1000)\n",
    "em1.display()\n",
    "\n",
    "p1 = Person(\"John\")\n",
    "p1.display()"
   ]
  },
  {
   "cell_type": "markdown",
   "metadata": {},
   "source": [
    "## Multiple Inheritance\n",
    "- Multiple base classes, python gives priority to the methods and attributes found in base classes from left to right\n",
    "\n",
    "> Thus, if an attribute is not found in DerivedClassName, it is searched for in Base1, then (recursively) in the base classes of Base1, and if it was not found there, it was searched for in Base2, and so on."
   ]
  },
  {
   "cell_type": "code",
   "execution_count": 17,
   "metadata": {},
   "outputs": [
    {
     "name": "stdout",
     "output_type": "stream",
     "text": [
      "English\n"
     ]
    }
   ],
   "source": [
    "class Indian():\n",
    "    def __init__(self):\n",
    "        self.country = \"India\"\n",
    "\n",
    "    def language(self):\n",
    "        print(\"Hindi\")\n",
    "\n",
    "class Student():\n",
    "    def __init__(self):\n",
    "        self.school = \"XYZ\"\n",
    "    \n",
    "    def language(self):\n",
    "        print(\"English\")\n",
    "\n",
    "class IndianStudent(Student, Indian):\n",
    "    def __init__(self):\n",
    "        Student.__init__(self)\n",
    "        Indian.__init__(self)\n",
    "\n",
    "        \n",
    "    \n",
    "    def show(self):\n",
    "        print(\"Country is \", self.country)\n",
    "        print(\"School is \", self.school)\n",
    "\n",
    "i = IndianStudent()\n",
    "i.language()"
   ]
  },
  {
   "cell_type": "markdown",
   "metadata": {},
   "source": [
    "# Polymorphism\n",
    "- A Greek word, with meaning Having many forms\n",
    "- Polymorphism is one of the pillars of OOPS\n",
    "- It can be acheived with Method overriding in python"
   ]
  },
  {
   "cell_type": "code",
   "execution_count": 18,
   "metadata": {},
   "outputs": [
    {
     "name": "stdout",
     "output_type": "stream",
     "text": [
      "Drive!\n",
      "Sail!\n",
      "Fly!\n"
     ]
    }
   ],
   "source": [
    "class Car:\n",
    "  def __init__(self, brand, model):\n",
    "    self.brand = brand\n",
    "    self.model = model\n",
    "\n",
    "  def move(self):\n",
    "    print(\"Drive!\")\n",
    "\n",
    "class Boat:\n",
    "  def __init__(self, brand, model):\n",
    "    self.brand = brand\n",
    "    self.model = model\n",
    "\n",
    "  def move(self):\n",
    "    print(\"Sail!\")\n",
    "\n",
    "class Plane:\n",
    "  def __init__(self, brand, model):\n",
    "    self.brand = brand\n",
    "    self.model = model\n",
    "\n",
    "  def move(self):\n",
    "    print(\"Fly!\")\n",
    "\n",
    "car1 = Car(\"Ford\", \"Mustang\")       \n",
    "boat1 = Boat(\"Ibiza\", \"Touring 20\") \n",
    "plane1 = Plane(\"Boeing\", \"747\")     \n",
    "\n",
    "for x in (car1, boat1, plane1):\n",
    "  x.move()"
   ]
  },
  {
   "cell_type": "markdown",
   "metadata": {},
   "source": [
    "# Abstraction\n",
    "In Python, abstraction really only exists for design/conceptual purposes, not like in other languages like Java or C++.\n",
    "\n",
    "https://stackoverflow.com/a/73751737/11325667"
   ]
  },
  {
   "cell_type": "code",
   "execution_count": 21,
   "metadata": {},
   "outputs": [
    {
     "name": "stdout",
     "output_type": "stream",
     "text": [
      "Sail!\n"
     ]
    },
    {
     "ename": "TypeError",
     "evalue": "Can't instantiate abstract class Car without an implementation for abstract method 'move'",
     "output_type": "error",
     "traceback": [
      "\u001b[1;31m---------------------------------------------------------------------------\u001b[0m",
      "\u001b[1;31mTypeError\u001b[0m                                 Traceback (most recent call last)",
      "Cell \u001b[1;32mIn[21], line 23\u001b[0m\n\u001b[0;32m     20\u001b[0m b\u001b[38;5;241m=\u001b[39m Boat(\u001b[38;5;124m\"\u001b[39m\u001b[38;5;124mIbiza\u001b[39m\u001b[38;5;124m\"\u001b[39m, \u001b[38;5;124m\"\u001b[39m\u001b[38;5;124mTouring 20\u001b[39m\u001b[38;5;124m\"\u001b[39m)\n\u001b[0;32m     21\u001b[0m b\u001b[38;5;241m.\u001b[39mmove() \u001b[38;5;66;03m# Works\u001b[39;00m\n\u001b[1;32m---> 23\u001b[0m c \u001b[38;5;241m=\u001b[39m \u001b[43mCar\u001b[49m\u001b[43m(\u001b[49m\u001b[38;5;124;43m\"\u001b[39;49m\u001b[38;5;124;43mFord\u001b[39;49m\u001b[38;5;124;43m\"\u001b[39;49m\u001b[43m,\u001b[49m\u001b[43m \u001b[49m\u001b[38;5;124;43m\"\u001b[39;49m\u001b[38;5;124;43mMustang\u001b[39;49m\u001b[38;5;124;43m\"\u001b[39;49m\u001b[43m)\u001b[49m\n\u001b[0;32m     24\u001b[0m c\u001b[38;5;241m.\u001b[39mmove() \u001b[38;5;66;03m# Error will be raised because move is not implemented in Car class\u001b[39;00m\n",
      "\u001b[1;31mTypeError\u001b[0m: Can't instantiate abstract class Car without an implementation for abstract method 'move'"
     ]
    }
   ],
   "source": [
    "from abc import ABC, abstractmethod\n",
    "\n",
    "class Vehicle(ABC):\n",
    "  def __init__(self, brand, model):\n",
    "    self.brand = brand\n",
    "    self.model = model\n",
    "\n",
    "  @abstractmethod\n",
    "  def move(self):\n",
    "    pass\n",
    "  \n",
    "class Car(Vehicle):\n",
    "    ...\n",
    "\n",
    "class Boat(Vehicle):\n",
    "    \n",
    "    def move(self):\n",
    "        print(\"Sail!\")\n",
    "\n",
    "b= Boat(\"Ibiza\", \"Touring 20\")\n",
    "b.move() # Works\n",
    "\n",
    "c = Car(\"Ford\", \"Mustang\")\n",
    "c.move() # Error will be raised because move is not implemented in Car class\n"
   ]
  },
  {
   "cell_type": "markdown",
   "metadata": {},
   "source": [
    "# References\n",
    "- https://docs.python.org/3/tutorial/classes.html[1]\n",
    "- https://docs.python.org/3/reference/datamodel.html#classes[2]\n",
    "- https://www.geeksforgeeks.org/\\_\\_new\\_\\_()-in-python/[3]\n",
    "- https://builtin.com/data-science/new-python[4]\n",
    "- https://docs.python.org/3/reference/datamodel.html#object.`__new__`[5]\n",
    "- https://docs.python.org/3/tutorial/classes.html#inheritance[6]"
   ]
  }
 ],
 "metadata": {
  "kernelspec": {
   "display_name": "Python 3",
   "language": "python",
   "name": "python3"
  },
  "language_info": {
   "codemirror_mode": {
    "name": "ipython",
    "version": 3
   },
   "file_extension": ".py",
   "mimetype": "text/x-python",
   "name": "python",
   "nbconvert_exporter": "python",
   "pygments_lexer": "ipython3",
   "version": "3.12.3"
  }
 },
 "nbformat": 4,
 "nbformat_minor": 2
}
