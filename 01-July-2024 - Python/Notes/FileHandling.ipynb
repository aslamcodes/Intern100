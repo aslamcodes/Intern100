{
 "cells": [
  {
   "cell_type": "markdown",
   "metadata": {},
   "source": [
    "# Open()\n",
    "- Returns the file object\n",
    "- File object exposes `read()` or `write()`, `readline()`\n",
    "- Three types of file objects, \n",
    "    1. raw binary files\n",
    "    2. buffered binary files\n",
    "    3. text files\n",
    "- file modes\n",
    "    - `r` \n",
    "        - read mode, only for reading\n",
    "    - `w`\n",
    "         - write mode, only for writing, all exisiting data will be deleted\n",
    "    - `a` \n",
    "        - append mode, file will be created if not exists, all existing data will be preserved and new data can be added\n",
    "    - `r+` \n",
    "        - Opens file for both reading and writing\n",
    "    - `a+` \n",
    "        - Append mode with reading"
   ]
  },
  {
   "cell_type": "code",
   "execution_count": 27,
   "metadata": {},
   "outputs": [
    {
     "name": "stdout",
     "output_type": "stream",
     "text": [
      "True\n"
     ]
    }
   ],
   "source": [
    "f = open('sample.txt', 'w', encoding=\"utf-8\")\n",
    "\n",
    "f.write(\"Never gonna give you up!\\n\")\n",
    "f.close()\n",
    "print(f.closed)"
   ]
  },
  {
   "cell_type": "markdown",
   "metadata": {},
   "source": [
    "# `With` keyword\n",
    "- t is good practice to use the with keyword when dealing with file objects"
   ]
  },
  {
   "cell_type": "code",
   "execution_count": 30,
   "metadata": {},
   "outputs": [
    {
     "name": "stdout",
     "output_type": "stream",
     "text": [
      "a give you up!\n",
      "\n",
      "True\n"
     ]
    }
   ],
   "source": [
    "with open('sample.txt', 'r', encoding=\"utf-8\") as f:\n",
    "    f.seek(10)\n",
    "    \n",
    "    print(f.read())\n",
    "\n",
    "print(f.closed)"
   ]
  }
 ],
 "metadata": {
  "kernelspec": {
   "display_name": "Python 3",
   "language": "python",
   "name": "python3"
  },
  "language_info": {
   "codemirror_mode": {
    "name": "ipython",
    "version": 3
   },
   "file_extension": ".py",
   "mimetype": "text/x-python",
   "name": "python",
   "nbconvert_exporter": "python",
   "pygments_lexer": "ipython3",
   "version": "3.12.3"
  }
 },
 "nbformat": 4,
 "nbformat_minor": 2
}
