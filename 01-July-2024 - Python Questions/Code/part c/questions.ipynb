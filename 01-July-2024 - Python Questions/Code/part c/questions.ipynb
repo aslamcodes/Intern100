{
 "cells": [
  {
   "cell_type": "markdown",
   "metadata": {},
   "source": [
    "# Longest Substring without repetitions"
   ]
  },
  {
   "cell_type": "code",
   "execution_count": null,
   "metadata": {},
   "outputs": [],
   "source": [
    "class Solution:\n",
    "    def lengthOfLongestSubstring(self, s: str) -> int:\n",
    "        characterSet = set()\n",
    "        l = 0\n",
    "        res = 0\n",
    "\n",
    "        for i in range(len(s)):\n",
    "            while s[i] in cSet:\n",
    "                cSet.remove(s[l])\n",
    "                l+=1\n",
    "            \n",
    "            cSet.add(s[i])\n",
    "            res = max(res,i-l+1)\n",
    "        \n",
    "        return res"
   ]
  },
  {
   "cell_type": "markdown",
   "metadata": {},
   "source": [
    "## Adjusting the window\n",
    "while s[i] in cSet:: If the current character s[i] is already in the set (indicating a duplicate within the current window), the inner while loop executes:\n",
    "- cSet.remove(s[l]): Remove the character at the left pointer from the set.\n",
    "- l += 1: Move the left pointer one step to the right to shrink the window until the duplicate character is removed.\n",
    "\n",
    "## Why it works\n",
    "- By using two pointers (l and i), the solution maintains a window that contains unique characters.\n"
   ]
  },
  {
   "cell_type": "markdown",
   "metadata": {},
   "source": [
    "# zigzag-conversion\n"
   ]
  },
  {
   "cell_type": "code",
   "execution_count": null,
   "metadata": {},
   "outputs": [],
   "source": []
  },
  {
   "cell_type": "markdown",
   "metadata": {},
   "source": [
    "# Brackets"
   ]
  },
  {
   "cell_type": "code",
   "execution_count": 5,
   "metadata": {},
   "outputs": [
    {
     "name": "stdout",
     "output_type": "stream",
     "text": [
      "['(((())))', '((()()))', '((())())', '((()))()', '(()(()))', '(()()())', '(()())()', '(())(())', '(())()()', '()((()))', '()(()())', '()(())()', '()()(())', '()()()()']\n"
     ]
    }
   ],
   "source": [
    "from typing import List\n",
    "\n",
    "\n",
    "def generateParenthesis(n: int) -> List[str]:\n",
    "    def backtrack(S='', left=0, right=0):\n",
    "        if len(S) == 2 * n:\n",
    "            result.append(S)\n",
    "            return\n",
    "        if left < n:\n",
    "            backtrack(S + '(', left + 1, right)\n",
    "        if right < left:\n",
    "            backtrack(S + ')', left, right + 1)\n",
    "\n",
    "    result = []\n",
    "    backtrack()\n",
    "    return result\n",
    "    \n",
    "print(generateParenthesis(4))"
   ]
  },
  {
   "cell_type": "markdown",
   "metadata": {},
   "source": [
    "# Multiply"
   ]
  },
  {
   "cell_type": "code",
   "execution_count": null,
   "metadata": {},
   "outputs": [],
   "source": [
    "class Solution:\n",
    "    def multiply(self, num1: str, num2: str) -> str:\n",
    "        return str(int(num1) * int(num2))"
   ]
  },
  {
   "cell_type": "markdown",
   "metadata": {},
   "source": [
    "# Group Anagrams"
   ]
  },
  {
   "cell_type": "code",
   "execution_count": null,
   "metadata": {},
   "outputs": [],
   "source": [
    "class Solution:\n",
    "    def groupAnagrams(self, strs: List[str]) -> List[List[str]]:\n",
    "        anagram_map = defaultdict(list)\n",
    "        \n",
    "        for word in strs:\n",
    "            sorted_word = ''.join(sorted(word))\n",
    "            anagram_map[sorted_word].append(word)\n",
    "        \n",
    "        return list(anagram_map.values())"
   ]
  },
  {
   "cell_type": "markdown",
   "metadata": {},
   "source": [
    "# Jump game"
   ]
  },
  {
   "cell_type": "code",
   "execution_count": null,
   "metadata": {},
   "outputs": [],
   "source": [
    "class Solution:\n",
    "    def canJump(self, nums: List[int]) -> bool:\n",
    "        reach = 0\n",
    "        for i in range(len(nums)):\n",
    "            if i > reach or reach >= len(nums) - 1:\n",
    "                break\n",
    "            reach = max(reach, i + nums[i])\n",
    "        return reach >= len(nums) - 1        "
   ]
  },
  {
   "cell_type": "markdown",
   "metadata": {},
   "source": [
    "## Why it works?\n",
    "`reach` Variable: The variable reach keeps track of the farthest index you can reach as you iterate through the list.\n",
    "\n",
    "### Current Index `i`:\n",
    "As you iterate through the list with the index `i`, you need to ensure that you can actually get to the current index i from any of the previous positions.\n",
    "\n",
    "### Checking Reachability:\n",
    "If `i <= reach`, it means that the current index `i` is reachable with the jumps made so far.\n",
    "If `i > reach`, it means that the current index `i` is not reachable because even the maximum jump length from all previous indices can't get you to `i`.\n",
    "Breaking Out Early:\n",
    "\n",
    "When `i > reach`, it indicates that there's no way to jump to or past the current index `i`. Hence, further checking is pointless because you can't proceed from this position.\n",
    "In this case, you break out of the loop since it's impossible to reach the end of the list from the current position.\n",
    "## Sample iteration\n",
    "Now consider the list nums = [3, 2, 1, 0, 4].\n",
    "\n",
    "Initial State: reach = 0.\n",
    "1. Iteration 1 (i = 0):\n",
    "        reach = max(0, 0 + 3) = 3 (you can jump to index 3 from index 0).\n",
    "2. Iteration 2 (i = 1):\n",
    "        reach = max(3, 1 + 2) = 3 (unchanged because 1 + 2 is equal to 3).\n",
    "3. Iteration 3 (i = 2):\n",
    "        reach = max(3, 2 + 1) = 3 (unchanged because 2 + 1 is less than 3).\n",
    "4. Iteration 4 (i = 3):\n",
    "        reach = max(3, 3 + 0) = 3 (unchanged because 3 + 0 is equal to 3).\n",
    "5. Iteration 5 (i = 4):\n",
    "        i = 4 is greater than reach = 3, so you can't reach index 4."
   ]
  },
  {
   "cell_type": "markdown",
   "metadata": {},
   "source": [
    "# Unique Paths"
   ]
  },
  {
   "cell_type": "markdown",
   "metadata": {},
   "source": [
    "# Text Justification"
   ]
  }
 ],
 "metadata": {
  "kernelspec": {
   "display_name": "Python 3",
   "language": "python",
   "name": "python3"
  },
  "language_info": {
   "codemirror_mode": {
    "name": "ipython",
    "version": 3
   },
   "file_extension": ".py",
   "mimetype": "text/x-python",
   "name": "python",
   "nbconvert_exporter": "python",
   "pygments_lexer": "ipython3",
   "version": "3.12.3"
  }
 },
 "nbformat": 4,
 "nbformat_minor": 2
}
